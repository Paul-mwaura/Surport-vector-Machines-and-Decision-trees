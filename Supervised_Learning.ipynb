{
  "nbformat": 4,
  "nbformat_minor": 0,
  "metadata": {
    "colab": {
      "name": "Supervised Learning.ipynb",
      "provenance": []
    },
    "kernelspec": {
      "name": "python3",
      "display_name": "Python 3"
    }
  },
  "cells": [
    {
      "cell_type": "markdown",
      "metadata": {
        "id": "XPLxjkRznWxU",
        "colab_type": "text"
      },
      "source": [
        "## Preprocessing and Exploration:"
      ]
    },
    {
      "cell_type": "code",
      "metadata": {
        "id": "JYOMkLIgm_4K",
        "colab_type": "code",
        "colab": {}
      },
      "source": [
        "import pandas as pd\n",
        "import numpy as np\n",
        "import seaborn as sns\n",
        "import matplotlib.pyplot as plt\n",
        "%matplotlib inline"
      ],
      "execution_count": 0,
      "outputs": []
    },
    {
      "cell_type": "markdown",
      "metadata": {
        "id": "JebTZnhvne4b",
        "colab_type": "text"
      },
      "source": [
        "**Now, let's load the data into python as a pandas DataFrame and print its info along with a few rows to get a feel for the data**"
      ]
    },
    {
      "cell_type": "code",
      "metadata": {
        "id": "SOv46VMenP82",
        "colab_type": "code",
        "colab": {
          "base_uri": "https://localhost:8080/",
          "height": 822
        },
        "outputId": "47c71b40-20f9-490c-98bf-9cc47be45bbb"
      },
      "source": [
        "df = pd.read_excel(\"Supermarket Data.xlsx\")\n",
        "df.info()\n",
        "df.head()"
      ],
      "execution_count": 121,
      "outputs": [
        {
          "output_type": "stream",
          "text": [
            "<class 'pandas.core.frame.DataFrame'>\n",
            "RangeIndex: 1464 entries, 0 to 1463\n",
            "Data columns (total 27 columns):\n",
            " #   Column        Non-Null Count  Dtype  \n",
            "---  ------        --------------  -----  \n",
            " 0   supermarket   1463 non-null   object \n",
            " 1   no_of_items   1464 non-null   int64  \n",
            " 2   variation     1464 non-null   int64  \n",
            " 3   total         1464 non-null   float64\n",
            " 4   paid          1464 non-null   float64\n",
            " 5   change        1464 non-null   float64\n",
            " 6   type          1464 non-null   object \n",
            " 7   food          1464 non-null   object \n",
            " 8   snack         1464 non-null   object \n",
            " 9   beverage      1464 non-null   object \n",
            " 10  consumables   1464 non-null   object \n",
            " 11  high_end      1464 non-null   object \n",
            " 12  asset         1464 non-null   object \n",
            " 13  fixed_asset   1464 non-null   object \n",
            " 14  date          1464 non-null   object \n",
            " 15  mall          1464 non-null   object \n",
            " 16  time          1464 non-null   object \n",
            " 17  time_type     1464 non-null   object \n",
            " 18  type_market   1464 non-null   object \n",
            " 19  location      1464 non-null   object \n",
            " 20  loc_category  1464 non-null   object \n",
            " 21  day           1464 non-null   object \n",
            " 22  day_type      1464 non-null   object \n",
            " 23  24hr          1464 non-null   object \n",
            " 24  day.1         1464 non-null   object \n",
            " 25  month         1464 non-null   int64  \n",
            " 26  year          1462 non-null   float64\n",
            "dtypes: float64(4), int64(3), object(20)\n",
            "memory usage: 308.9+ KB\n"
          ],
          "name": "stdout"
        },
        {
          "output_type": "execute_result",
          "data": {
            "text/html": [
              "<div>\n",
              "<style scoped>\n",
              "    .dataframe tbody tr th:only-of-type {\n",
              "        vertical-align: middle;\n",
              "    }\n",
              "\n",
              "    .dataframe tbody tr th {\n",
              "        vertical-align: top;\n",
              "    }\n",
              "\n",
              "    .dataframe thead th {\n",
              "        text-align: right;\n",
              "    }\n",
              "</style>\n",
              "<table border=\"1\" class=\"dataframe\">\n",
              "  <thead>\n",
              "    <tr style=\"text-align: right;\">\n",
              "      <th></th>\n",
              "      <th>supermarket</th>\n",
              "      <th>no_of_items</th>\n",
              "      <th>variation</th>\n",
              "      <th>total</th>\n",
              "      <th>paid</th>\n",
              "      <th>change</th>\n",
              "      <th>type</th>\n",
              "      <th>food</th>\n",
              "      <th>snack</th>\n",
              "      <th>beverage</th>\n",
              "      <th>consumables</th>\n",
              "      <th>high_end</th>\n",
              "      <th>asset</th>\n",
              "      <th>fixed_asset</th>\n",
              "      <th>date</th>\n",
              "      <th>mall</th>\n",
              "      <th>time</th>\n",
              "      <th>time_type</th>\n",
              "      <th>type_market</th>\n",
              "      <th>location</th>\n",
              "      <th>loc_category</th>\n",
              "      <th>day</th>\n",
              "      <th>day_type</th>\n",
              "      <th>24hr</th>\n",
              "      <th>day.1</th>\n",
              "      <th>month</th>\n",
              "      <th>year</th>\n",
              "    </tr>\n",
              "  </thead>\n",
              "  <tbody>\n",
              "    <tr>\n",
              "      <th>0</th>\n",
              "      <td>acacia</td>\n",
              "      <td>1</td>\n",
              "      <td>1</td>\n",
              "      <td>90.0</td>\n",
              "      <td>100.0</td>\n",
              "      <td>10.0</td>\n",
              "      <td>cash</td>\n",
              "      <td>yes</td>\n",
              "      <td>no</td>\n",
              "      <td>no</td>\n",
              "      <td>no</td>\n",
              "      <td>no</td>\n",
              "      <td>no</td>\n",
              "      <td>no</td>\n",
              "      <td>20/05/2017</td>\n",
              "      <td>no</td>\n",
              "      <td>19:33:00</td>\n",
              "      <td>night</td>\n",
              "      <td>small</td>\n",
              "      <td>saika</td>\n",
              "      <td>mid</td>\n",
              "      <td>saturday</td>\n",
              "      <td>weekend</td>\n",
              "      <td>no</td>\n",
              "      <td>20</td>\n",
              "      <td>5</td>\n",
              "      <td>2017.0</td>\n",
              "    </tr>\n",
              "    <tr>\n",
              "      <th>1</th>\n",
              "      <td>acacia</td>\n",
              "      <td>1</td>\n",
              "      <td>1</td>\n",
              "      <td>90.0</td>\n",
              "      <td>500.0</td>\n",
              "      <td>410.0</td>\n",
              "      <td>cash</td>\n",
              "      <td>yes</td>\n",
              "      <td>no</td>\n",
              "      <td>no</td>\n",
              "      <td>no</td>\n",
              "      <td>no</td>\n",
              "      <td>no</td>\n",
              "      <td>no</td>\n",
              "      <td>20/05/2017</td>\n",
              "      <td>no</td>\n",
              "      <td>19:12:00</td>\n",
              "      <td>night</td>\n",
              "      <td>small</td>\n",
              "      <td>saika</td>\n",
              "      <td>mid</td>\n",
              "      <td>saturday</td>\n",
              "      <td>weekend</td>\n",
              "      <td>no</td>\n",
              "      <td>20</td>\n",
              "      <td>5</td>\n",
              "      <td>2017.0</td>\n",
              "    </tr>\n",
              "    <tr>\n",
              "      <th>2</th>\n",
              "      <td>acacia</td>\n",
              "      <td>3</td>\n",
              "      <td>1</td>\n",
              "      <td>270.0</td>\n",
              "      <td>300.0</td>\n",
              "      <td>30.0</td>\n",
              "      <td>cash</td>\n",
              "      <td>yes</td>\n",
              "      <td>no</td>\n",
              "      <td>no</td>\n",
              "      <td>no</td>\n",
              "      <td>no</td>\n",
              "      <td>no</td>\n",
              "      <td>no</td>\n",
              "      <td>20/05/2017</td>\n",
              "      <td>no</td>\n",
              "      <td>19:16:00</td>\n",
              "      <td>night</td>\n",
              "      <td>small</td>\n",
              "      <td>saika</td>\n",
              "      <td>mid</td>\n",
              "      <td>saturday</td>\n",
              "      <td>weekend</td>\n",
              "      <td>no</td>\n",
              "      <td>20</td>\n",
              "      <td>5</td>\n",
              "      <td>2017.0</td>\n",
              "    </tr>\n",
              "    <tr>\n",
              "      <th>3</th>\n",
              "      <td>acacia</td>\n",
              "      <td>3</td>\n",
              "      <td>1</td>\n",
              "      <td>137.0</td>\n",
              "      <td>200.0</td>\n",
              "      <td>63.0</td>\n",
              "      <td>cash</td>\n",
              "      <td>yes</td>\n",
              "      <td>no</td>\n",
              "      <td>no</td>\n",
              "      <td>no</td>\n",
              "      <td>no</td>\n",
              "      <td>no</td>\n",
              "      <td>no</td>\n",
              "      <td>20/05/2017</td>\n",
              "      <td>no</td>\n",
              "      <td>19:12:00</td>\n",
              "      <td>night</td>\n",
              "      <td>small</td>\n",
              "      <td>saika</td>\n",
              "      <td>mid</td>\n",
              "      <td>saturday</td>\n",
              "      <td>weekend</td>\n",
              "      <td>no</td>\n",
              "      <td>20</td>\n",
              "      <td>5</td>\n",
              "      <td>2017.0</td>\n",
              "    </tr>\n",
              "    <tr>\n",
              "      <th>4</th>\n",
              "      <td>acacia</td>\n",
              "      <td>1</td>\n",
              "      <td>1</td>\n",
              "      <td>75.0</td>\n",
              "      <td>80.0</td>\n",
              "      <td>5.0</td>\n",
              "      <td>cash</td>\n",
              "      <td>yes</td>\n",
              "      <td>no</td>\n",
              "      <td>no</td>\n",
              "      <td>no</td>\n",
              "      <td>no</td>\n",
              "      <td>no</td>\n",
              "      <td>no</td>\n",
              "      <td>20/05/2017</td>\n",
              "      <td>no</td>\n",
              "      <td>18:31:00</td>\n",
              "      <td>afternoon</td>\n",
              "      <td>small</td>\n",
              "      <td>saika</td>\n",
              "      <td>mid</td>\n",
              "      <td>saturday</td>\n",
              "      <td>weekend</td>\n",
              "      <td>no</td>\n",
              "      <td>20</td>\n",
              "      <td>5</td>\n",
              "      <td>2017.0</td>\n",
              "    </tr>\n",
              "  </tbody>\n",
              "</table>\n",
              "</div>"
            ],
            "text/plain": [
              "  supermarket  no_of_items  variation  total  ...  24hr  day.1 month    year\n",
              "0      acacia            1          1   90.0  ...    no     20     5  2017.0\n",
              "1      acacia            1          1   90.0  ...    no     20     5  2017.0\n",
              "2      acacia            3          1  270.0  ...    no     20     5  2017.0\n",
              "3      acacia            3          1  137.0  ...    no     20     5  2017.0\n",
              "4      acacia            1          1   75.0  ...    no     20     5  2017.0\n",
              "\n",
              "[5 rows x 27 columns]"
            ]
          },
          "metadata": {
            "tags": []
          },
          "execution_count": 121
        }
      ]
    },
    {
      "cell_type": "markdown",
      "metadata": {
        "id": "vDqm5_PRogq1",
        "colab_type": "text"
      },
      "source": [
        "**Seperate the numerical columns from Categorical Columns**"
      ]
    },
    {
      "cell_type": "code",
      "metadata": {
        "id": "ue3QthB5nrVn",
        "colab_type": "code",
        "colab": {
          "base_uri": "https://localhost:8080/",
          "height": 34
        },
        "outputId": "9122aae0-d5cf-4a39-e396-5803a26e544a"
      },
      "source": [
        "# Create a list of numerical columns\n",
        "#\n",
        "numerical_columns = [col for col in df.columns if (df[col].dtype=='int64' or df[col].dtype=='float64')]\n",
        "numerical_columns"
      ],
      "execution_count": 122,
      "outputs": [
        {
          "output_type": "execute_result",
          "data": {
            "text/plain": [
              "['no_of_items', 'variation', 'total', 'paid', 'change', 'month', 'year']"
            ]
          },
          "metadata": {
            "tags": []
          },
          "execution_count": 122
        }
      ]
    },
    {
      "cell_type": "markdown",
      "metadata": {
        "id": "E-H1bOMnoxNy",
        "colab_type": "text"
      },
      "source": [
        "### Detecting outliers"
      ]
    },
    {
      "cell_type": "code",
      "metadata": {
        "id": "zaJeNV5rocl5",
        "colab_type": "code",
        "colab": {
          "base_uri": "https://localhost:8080/",
          "height": 187
        },
        "outputId": "bfcb9d69-eb41-4015-9fe9-fa33cff44d97"
      },
      "source": [
        "# Get a description of the numerical columns\n",
        "#\n",
        "df[numerical_columns].describe().loc[['min','max', 'mean','50%'],:]"
      ],
      "execution_count": 123,
      "outputs": [
        {
          "output_type": "execute_result",
          "data": {
            "text/html": [
              "<div>\n",
              "<style scoped>\n",
              "    .dataframe tbody tr th:only-of-type {\n",
              "        vertical-align: middle;\n",
              "    }\n",
              "\n",
              "    .dataframe tbody tr th {\n",
              "        vertical-align: top;\n",
              "    }\n",
              "\n",
              "    .dataframe thead th {\n",
              "        text-align: right;\n",
              "    }\n",
              "</style>\n",
              "<table border=\"1\" class=\"dataframe\">\n",
              "  <thead>\n",
              "    <tr style=\"text-align: right;\">\n",
              "      <th></th>\n",
              "      <th>no_of_items</th>\n",
              "      <th>variation</th>\n",
              "      <th>total</th>\n",
              "      <th>paid</th>\n",
              "      <th>change</th>\n",
              "      <th>month</th>\n",
              "      <th>year</th>\n",
              "    </tr>\n",
              "  </thead>\n",
              "  <tbody>\n",
              "    <tr>\n",
              "      <th>min</th>\n",
              "      <td>1.000000</td>\n",
              "      <td>1.000000</td>\n",
              "      <td>1.000000</td>\n",
              "      <td>1.000000</td>\n",
              "      <td>0.000000</td>\n",
              "      <td>1.000000</td>\n",
              "      <td>201.000000</td>\n",
              "    </tr>\n",
              "    <tr>\n",
              "      <th>max</th>\n",
              "      <td>33.000000</td>\n",
              "      <td>6.000000</td>\n",
              "      <td>17350.000000</td>\n",
              "      <td>17350.000000</td>\n",
              "      <td>1880.000000</td>\n",
              "      <td>2017.000000</td>\n",
              "      <td>2107.000000</td>\n",
              "    </tr>\n",
              "    <tr>\n",
              "      <th>mean</th>\n",
              "      <td>2.308743</td>\n",
              "      <td>1.398224</td>\n",
              "      <td>311.780847</td>\n",
              "      <td>469.251851</td>\n",
              "      <td>164.037316</td>\n",
              "      <td>8.961749</td>\n",
              "      <td>2015.911081</td>\n",
              "    </tr>\n",
              "    <tr>\n",
              "      <th>50%</th>\n",
              "      <td>1.000000</td>\n",
              "      <td>1.000000</td>\n",
              "      <td>110.000000</td>\n",
              "      <td>200.000000</td>\n",
              "      <td>40.000000</td>\n",
              "      <td>6.000000</td>\n",
              "      <td>2017.000000</td>\n",
              "    </tr>\n",
              "  </tbody>\n",
              "</table>\n",
              "</div>"
            ],
            "text/plain": [
              "      no_of_items  variation  ...        month         year\n",
              "min      1.000000   1.000000  ...     1.000000   201.000000\n",
              "max     33.000000   6.000000  ...  2017.000000  2107.000000\n",
              "mean     2.308743   1.398224  ...     8.961749  2015.911081\n",
              "50%      1.000000   1.000000  ...     6.000000  2017.000000\n",
              "\n",
              "[4 rows x 7 columns]"
            ]
          },
          "metadata": {
            "tags": []
          },
          "execution_count": 123
        }
      ]
    },
    {
      "cell_type": "code",
      "metadata": {
        "id": "5_5MDEUgo39p",
        "colab_type": "code",
        "colab": {
          "base_uri": "https://localhost:8080/",
          "height": 97
        },
        "outputId": "a879ff0d-cde8-4a84-c18d-f506451e94a4"
      },
      "source": [
        "df[df['year'] == df['year'].min()]"
      ],
      "execution_count": 124,
      "outputs": [
        {
          "output_type": "execute_result",
          "data": {
            "text/html": [
              "<div>\n",
              "<style scoped>\n",
              "    .dataframe tbody tr th:only-of-type {\n",
              "        vertical-align: middle;\n",
              "    }\n",
              "\n",
              "    .dataframe tbody tr th {\n",
              "        vertical-align: top;\n",
              "    }\n",
              "\n",
              "    .dataframe thead th {\n",
              "        text-align: right;\n",
              "    }\n",
              "</style>\n",
              "<table border=\"1\" class=\"dataframe\">\n",
              "  <thead>\n",
              "    <tr style=\"text-align: right;\">\n",
              "      <th></th>\n",
              "      <th>supermarket</th>\n",
              "      <th>no_of_items</th>\n",
              "      <th>variation</th>\n",
              "      <th>total</th>\n",
              "      <th>paid</th>\n",
              "      <th>change</th>\n",
              "      <th>type</th>\n",
              "      <th>food</th>\n",
              "      <th>snack</th>\n",
              "      <th>beverage</th>\n",
              "      <th>consumables</th>\n",
              "      <th>high_end</th>\n",
              "      <th>asset</th>\n",
              "      <th>fixed_asset</th>\n",
              "      <th>date</th>\n",
              "      <th>mall</th>\n",
              "      <th>time</th>\n",
              "      <th>time_type</th>\n",
              "      <th>type_market</th>\n",
              "      <th>location</th>\n",
              "      <th>loc_category</th>\n",
              "      <th>day</th>\n",
              "      <th>day_type</th>\n",
              "      <th>24hr</th>\n",
              "      <th>day.1</th>\n",
              "      <th>month</th>\n",
              "      <th>year</th>\n",
              "    </tr>\n",
              "  </thead>\n",
              "  <tbody>\n",
              "    <tr>\n",
              "      <th>1274</th>\n",
              "      <td>karrymart</td>\n",
              "      <td>3</td>\n",
              "      <td>1</td>\n",
              "      <td>110.0</td>\n",
              "      <td>120.0</td>\n",
              "      <td>10.0</td>\n",
              "      <td>cash</td>\n",
              "      <td>yes</td>\n",
              "      <td>yes</td>\n",
              "      <td>yes</td>\n",
              "      <td>no</td>\n",
              "      <td>no</td>\n",
              "      <td>no</td>\n",
              "      <td>no</td>\n",
              "      <td>23/05/0201</td>\n",
              "      <td>no</td>\n",
              "      <td>17:52:00</td>\n",
              "      <td>evening</td>\n",
              "      <td>chain</td>\n",
              "      <td>cbd</td>\n",
              "      <td>mid</td>\n",
              "      <td>Wednesday</td>\n",
              "      <td>weekday</td>\n",
              "      <td>no</td>\n",
              "      <td>23</td>\n",
              "      <td>5</td>\n",
              "      <td>201.0</td>\n",
              "    </tr>\n",
              "  </tbody>\n",
              "</table>\n",
              "</div>"
            ],
            "text/plain": [
              "     supermarket  no_of_items  variation  total  ...  24hr  day.1 month   year\n",
              "1274   karrymart            3          1  110.0  ...    no     23     5  201.0\n",
              "\n",
              "[1 rows x 27 columns]"
            ]
          },
          "metadata": {
            "tags": []
          },
          "execution_count": 124
        }
      ]
    },
    {
      "cell_type": "markdown",
      "metadata": {
        "id": "7gehGrxmpc9-",
        "colab_type": "text"
      },
      "source": [
        "**It seems there was a typo when the date and year columns wer being recorded**"
      ]
    },
    {
      "cell_type": "markdown",
      "metadata": {
        "id": "yfr4Vn-7pmbm",
        "colab_type": "text"
      },
      "source": [
        "**We could drop the column but from my perspective I find it necessary to remain with the column since other important rows have values**"
      ]
    },
    {
      "cell_type": "markdown",
      "metadata": {
        "id": "hKyww0a6qAGa",
        "colab_type": "text"
      },
      "source": [
        "> Let's decide if the categorical columns are relevant."
      ]
    },
    {
      "cell_type": "code",
      "metadata": {
        "id": "S-3LO2nvqN_O",
        "colab_type": "code",
        "colab": {
          "base_uri": "https://localhost:8080/",
          "height": 372
        },
        "outputId": "6cd0dd1d-d8bb-41b1-c5d2-49d090107162"
      },
      "source": [
        "# Create a list of the categorical columns\n",
        "#\n",
        "cat = [col for col in df.columns if (df[col].dtype=='object')]\n",
        "cat"
      ],
      "execution_count": 125,
      "outputs": [
        {
          "output_type": "execute_result",
          "data": {
            "text/plain": [
              "['supermarket',\n",
              " 'type',\n",
              " 'food',\n",
              " 'snack',\n",
              " 'beverage',\n",
              " 'consumables',\n",
              " 'high_end',\n",
              " 'asset',\n",
              " 'fixed_asset',\n",
              " 'date',\n",
              " 'mall',\n",
              " 'time',\n",
              " 'time_type',\n",
              " 'type_market',\n",
              " 'location',\n",
              " 'loc_category',\n",
              " 'day',\n",
              " 'day_type',\n",
              " '24hr',\n",
              " 'day.1']"
            ]
          },
          "metadata": {
            "tags": []
          },
          "execution_count": 125
        }
      ]
    },
    {
      "cell_type": "code",
      "metadata": {
        "id": "ZwfpBZORrSRG",
        "colab_type": "code",
        "colab": {
          "base_uri": "https://localhost:8080/",
          "height": 34
        },
        "outputId": "370eea8e-bd8f-48d4-af14-f4c0f943aae2"
      },
      "source": [
        "df['day_type'].unique()"
      ],
      "execution_count": 126,
      "outputs": [
        {
          "output_type": "execute_result",
          "data": {
            "text/plain": [
              "array(['weekend', 'weekday'], dtype=object)"
            ]
          },
          "metadata": {
            "tags": []
          },
          "execution_count": 126
        }
      ]
    },
    {
      "cell_type": "code",
      "metadata": {
        "id": "r3ayZZvypVsp",
        "colab_type": "code",
        "colab": {
          "base_uri": "https://localhost:8080/",
          "height": 443
        },
        "outputId": "4c3be05d-ab60-4625-a204-b2de6da031c1"
      },
      "source": [
        "# Percentages of total cash spent by customers\n",
        "# during weekdays and weekends.\n",
        "# \n",
        "percentages = []\n",
        "for gen in list(df[\"day_type\"].unique()):\n",
        "    \n",
        "    p = round((df[\"total\"][df[\"day_type\"]==gen].value_counts()\n",
        "    /df[\"total\"][df[\"day_type\"]==gen].value_counts().sum())*100 , 2)\n",
        "    \n",
        "    percentages.append(p)\n",
        "    print(gen,\"(% to exit) : \", p)"
      ],
      "execution_count": 127,
      "outputs": [
        {
          "output_type": "stream",
          "text": [
            "weekend (% to exit) :  90.0      5.88\n",
            "55.0      2.57\n",
            "60.0      2.57\n",
            "110.0     1.84\n",
            "100.0     1.84\n",
            "          ... \n",
            "138.0     0.37\n",
            "1287.0    0.37\n",
            "96.0      0.37\n",
            "700.0     0.37\n",
            "312.0     0.37\n",
            "Name: total, Length: 159, dtype: float64\n",
            "weekday (% to exit) :  60.00     8.64\n",
            "50.00     3.61\n",
            "90.00     3.44\n",
            "100.00    3.44\n",
            "40.00     2.85\n",
            "          ... \n",
            "600.00    0.08\n",
            "310.00    0.08\n",
            "300.00    0.08\n",
            "380.00    0.08\n",
            "270.25    0.08\n",
            "Name: total, Length: 358, dtype: float64\n"
          ],
          "name": "stdout"
        }
      ]
    },
    {
      "cell_type": "markdown",
      "metadata": {
        "id": "tR2tG55-stVY",
        "colab_type": "text"
      },
      "source": [
        "**Let's visualize them**"
      ]
    },
    {
      "cell_type": "code",
      "metadata": {
        "id": "9KK0QmgXrCM_",
        "colab_type": "code",
        "colab": {
          "base_uri": "https://localhost:8080/",
          "height": 294
        },
        "outputId": "01dfe09d-aaad-4e8f-c302-9d4649e0a628"
      },
      "source": [
        "plt.bar(0, percentages[0])\n",
        "plt.bar(1, percentages[1])\n",
        "plt.xticks((0,1), ('Weekends','Weekends'))\n",
        "plt.xlabel(\"Day Type\")\n",
        "plt.ylabel(\"Percentage\")\n",
        "plt.title(\"Percentage of Day Type to Total Cash\")\n",
        "plt.show()"
      ],
      "execution_count": 128,
      "outputs": [
        {
          "output_type": "display_data",
          "data": {
            "image/png": "[encoded data removed]",
            "text/plain": [
              "<Figure size 432x288 with 1 Axes>"
            ]
          },
          "metadata": {
            "tags": [],
            "needs_background": "light"
          }
        }
      ]
    },
    {
      "cell_type": "code",
      "metadata": {
        "id": "jFMV72ggt5b_",
        "colab_type": "code",
        "colab": {
          "base_uri": "https://localhost:8080/",
          "height": 976
        },
        "outputId": "bd6c485e-71ac-4974-9203-4c8b117e83bb"
      },
      "source": [
        "# Percentages of total cash spent by customers\n",
        "# during weekdays and weekends.\n",
        "# \n",
        "percentages = []\n",
        "for gen in list(df[\"type_market\"].unique()):\n",
        "    \n",
        "    p = round((df[\"total\"][df[\"type_market\"]==gen].value_counts()\n",
        "    /df[\"total\"][df[\"type_market\"]==gen].value_counts().sum())*100 , 2)\n",
        "    \n",
        "    percentages.append(p)\n",
        "    print(gen,\"(% to exit) : \", p)"
      ],
      "execution_count": 129,
      "outputs": [
        {
          "output_type": "stream",
          "text": [
            "small (% to exit) :  90.0     9.23\n",
            "60.0     7.69\n",
            "55.0     4.62\n",
            "130.0    3.85\n",
            "100.0    3.85\n",
            "         ... \n",
            "390.0    0.77\n",
            "77.0     0.77\n",
            "350.0    0.77\n",
            "150.0    0.77\n",
            "475.0    0.77\n",
            "Name: total, Length: 64, dtype: float64\n",
            "chain (% to exit) :  60.0     7.56\n",
            "90.0     3.24\n",
            "100.0    3.16\n",
            "50.0     3.08\n",
            "40.0     2.70\n",
            "         ... \n",
            "982.0    0.08\n",
            "562.0    0.08\n",
            "419.0    0.08\n",
            "417.0    0.08\n",
            "347.0    0.08\n",
            "Name: total, Length: 408, dtype: float64\n",
            "median (% to exit) :  110.0     8.11\n",
            "90.0      8.11\n",
            "86.0      5.41\n",
            "77.0      5.41\n",
            "140.0     5.41\n",
            "60.0      5.41\n",
            "266.0     2.70\n",
            "52.0      2.70\n",
            "35.0      2.70\n",
            "80.0      2.70\n",
            "186.0     2.70\n",
            "390.0     2.70\n",
            "147.0     2.70\n",
            "1273.0    2.70\n",
            "30.0      2.70\n",
            "177.0     2.70\n",
            "320.0     2.70\n",
            "10.0      2.70\n",
            "95.0      2.70\n",
            "47.0      2.70\n",
            "130.0     2.70\n",
            "84.0      2.70\n",
            "285.0     2.70\n",
            "102.0     2.70\n",
            "25.0      2.70\n",
            "44.0      2.70\n",
            "78.0      2.70\n",
            "260.0     2.70\n",
            "7955.0    2.70\n",
            "Name: total, dtype: float64\n"
          ],
          "name": "stdout"
        }
      ]
    },
    {
      "cell_type": "code",
      "metadata": {
        "id": "wX4wNFyos-I2",
        "colab_type": "code",
        "colab": {
          "base_uri": "https://localhost:8080/",
          "height": 294
        },
        "outputId": "5d0dfce8-d9c9-4171-9ec1-efe64515d964"
      },
      "source": [
        "for i in range(len(percentages)):\n",
        "    plt.bar(i, percentages[i])\n",
        "\n",
        "plt.xticks((0,1,2), ('Small','Chain', 'Medium'))\n",
        "plt.xlabel(\"Market Type\")\n",
        "plt.ylabel(\"Percentage\")\n",
        "plt.title(\"Percentage of Market Type to Total Cash\")\n",
        "plt.show()"
      ],
      "execution_count": 130,
      "outputs": [
        {
          "output_type": "display_data",
          "data": {
            "image/png": "[encoded data removed]",
            "text/plain": [
              "<Figure size 432x288 with 1 Axes>"
            ]
          },
          "metadata": {
            "tags": [],
            "needs_background": "light"
          }
        }
      ]
    },
    {
      "cell_type": "code",
      "metadata": {
        "id": "ABge78JbuZP8",
        "colab_type": "code",
        "colab": {
          "base_uri": "https://localhost:8080/",
          "height": 478
        },
        "outputId": "3108c19e-ea94-48ba-f1a0-58dd336ff9b4"
      },
      "source": [
        "# Percentages of total cash spent by customers\n",
        "# during weekdays and weekends.\n",
        "# \n",
        "percentages = []\n",
        "for gen in list(df[\"loc_category\"].unique()):\n",
        "    \n",
        "    p = round((df[\"total\"][df[\"loc_category\"]==gen].value_counts()\n",
        "    /df[\"total\"][df[\"loc_category\"]==gen].value_counts().sum())*100 , 2)\n",
        "    \n",
        "    percentages.append(p)\n",
        "    print(gen,\"(% to exit) : \", p)"
      ],
      "execution_count": 131,
      "outputs": [
        {
          "output_type": "stream",
          "text": [
            "mid (% to exit) :  60.0      7.68\n",
            "90.0      3.95\n",
            "100.0     3.23\n",
            "50.0      3.01\n",
            "40.0      2.65\n",
            "          ... \n",
            "399.0     0.07\n",
            "451.0     0.07\n",
            "3440.0    0.07\n",
            "1172.0    0.07\n",
            "335.0     0.07\n",
            "Name: total, Length: 400, dtype: float64\n",
            "high (% to exit) :  60.0      4.35\n",
            "90.0      2.90\n",
            "99.0      2.90\n",
            "150.0     2.90\n",
            "530.0     2.90\n",
            "          ... \n",
            "28.0      1.45\n",
            "424.0     1.45\n",
            "2657.0    1.45\n",
            "160.0     1.45\n",
            "7955.0    1.45\n",
            "Name: total, Length: 61, dtype: float64\n",
            "low (% to exit) :  161.0    100.0\n",
            "Name: total, dtype: float64\n"
          ],
          "name": "stdout"
        }
      ]
    },
    {
      "cell_type": "code",
      "metadata": {
        "id": "iHjKt78Ru9Ce",
        "colab_type": "code",
        "colab": {
          "base_uri": "https://localhost:8080/",
          "height": 294
        },
        "outputId": "e77947a7-12eb-4239-9e02-e66dd5311b78"
      },
      "source": [
        "plt.bar(0, percentages[0])\n",
        "plt.bar(1, percentages[1])\n",
        "plt.xticks((0,1), ('Mid','High'))\n",
        "plt.xlabel(\"Day Type\")\n",
        "plt.ylabel(\"Percentage\")\n",
        "plt.title(\"Percentage of Location Category to Total Cash\")\n",
        "plt.show()"
      ],
      "execution_count": 132,
      "outputs": [
        {
          "output_type": "display_data",
          "data": {
            "image/png": "[encoded data removed]",
            "text/plain": [
              "<Figure size 432x288 with 1 Axes>"
            ]
          },
          "metadata": {
            "tags": [],
            "needs_background": "light"
          }
        }
      ]
    },
    {
      "cell_type": "code",
      "metadata": {
        "id": "g4_nEuXevOYU",
        "colab_type": "code",
        "colab": {
          "base_uri": "https://localhost:8080/",
          "height": 123
        },
        "outputId": "4b5f0ed8-c8e2-4c7d-ec93-e55a87725038"
      },
      "source": [
        "df.columns"
      ],
      "execution_count": 133,
      "outputs": [
        {
          "output_type": "execute_result",
          "data": {
            "text/plain": [
              "Index(['supermarket', 'no_of_items', 'variation', 'total', 'paid', 'change',\n",
              "       'type', 'food', 'snack', 'beverage', 'consumables', 'high_end', 'asset',\n",
              "       'fixed_asset', 'date', 'mall', 'time', 'time_type', 'type_market',\n",
              "       'location', 'loc_category', 'day', 'day_type', '24hr', 'day.1', 'month',\n",
              "       'year'],\n",
              "      dtype='object')"
            ]
          },
          "metadata": {
            "tags": []
          },
          "execution_count": 133
        }
      ]
    },
    {
      "cell_type": "code",
      "metadata": {
        "id": "uqMBBO_Uv7Yi",
        "colab_type": "code",
        "colab": {
          "base_uri": "https://localhost:8080/",
          "height": 230
        },
        "outputId": "038f9416-c02d-4872-ee8e-ff9e4b84430d"
      },
      "source": [
        "df['month']"
      ],
      "execution_count": 134,
      "outputs": [
        {
          "output_type": "execute_result",
          "data": {
            "text/plain": [
              "0       5\n",
              "1       5\n",
              "2       5\n",
              "3       5\n",
              "4       5\n",
              "       ..\n",
              "1459    6\n",
              "1460    7\n",
              "1461    6\n",
              "1462    5\n",
              "1463    6\n",
              "Name: month, Length: 1464, dtype: int64"
            ]
          },
          "metadata": {
            "tags": []
          },
          "execution_count": 134
        }
      ]
    },
    {
      "cell_type": "markdown",
      "metadata": {
        "id": "LEW1PYtsvx2I",
        "colab_type": "text"
      },
      "source": [
        "**bucketizing the Month column and using ‘groupby’ to create groups for each month group**"
      ]
    },
    {
      "cell_type": "code",
      "metadata": {
        "id": "8CeWTaKAvn1t",
        "colab_type": "code",
        "colab": {}
      },
      "source": [
        "# Creating groups of months where each group consists of two months\n",
        "#\n",
        "month_bucket = df.groupby(pd.cut(df[\"month\"],bins=[0,2,4,6,8,10,12]))"
      ],
      "execution_count": 0,
      "outputs": []
    },
    {
      "cell_type": "code",
      "metadata": {
        "id": "ATj3koWJv6B2",
        "colab_type": "code",
        "colab": {
          "base_uri": "https://localhost:8080/",
          "height": 158
        },
        "outputId": "dcfdcb90-5e94-483b-c83b-aa1d42907ed0"
      },
      "source": [
        "# Amount of cash spent every two months\n",
        "#\n",
        "month_bucket = round((month_bucket.sum()[\"total\"] / month_bucket.size())*100 , 2)\n",
        "month_bucket"
      ],
      "execution_count": 136,
      "outputs": [
        {
          "output_type": "execute_result",
          "data": {
            "text/plain": [
              "month\n",
              "(0, 2]      203428.57\n",
              "(2, 4]      151175.00\n",
              "(4, 6]       22266.01\n",
              "(6, 8]       43301.73\n",
              "(8, 10]      28538.46\n",
              "(10, 12]    378000.00\n",
              "dtype: float64"
            ]
          },
          "metadata": {
            "tags": []
          },
          "execution_count": 136
        }
      ]
    },
    {
      "cell_type": "code",
      "metadata": {
        "id": "jTYmM6c0wPaj",
        "colab_type": "code",
        "colab": {
          "base_uri": "https://localhost:8080/",
          "height": 312
        },
        "outputId": "88beb612-a843-432b-943c-a50528fb724f"
      },
      "source": [
        "# Plotting the customer spending in groups of every two months.\n",
        "#\n",
        "x = [str(i)+\"-\"+str(i+2) for i in range(0,12,2)]\n",
        "plt.plot(x,month_bucket.values)\n",
        "plt.xlabel(\"Month Group\")\n",
        "plt.ylabel(\"Percentage Total cash spent\")\n",
        "plt.title(\"Percentage of people in different Month Groups that exited\")"
      ],
      "execution_count": 137,
      "outputs": [
        {
          "output_type": "execute_result",
          "data": {
            "text/plain": [
              "Text(0.5, 1.0, 'Percentage of people in different Month Groups that exited')"
            ]
          },
          "metadata": {
            "tags": []
          },
          "execution_count": 137
        },
        {
          "output_type": "display_data",
          "data": {
            "image/png": "[encoded data removed]",
            "text/plain": [
              "<Figure size 432x288 with 1 Axes>"
            ]
          },
          "metadata": {
            "tags": [],
            "needs_background": "light"
          }
        }
      ]
    },
    {
      "cell_type": "markdown",
      "metadata": {
        "id": "SBQH-v5bxvxD",
        "colab_type": "text"
      },
      "source": [
        "**We can clearly see that there is aspike in the amount of cash people spend during the end of the year.**\n",
        "\n",
        "**Also from the month of April to the month of October poeple tend to spend less amount of cash**"
      ]
    },
    {
      "cell_type": "markdown",
      "metadata": {
        "id": "9X0ISIydydfe",
        "colab_type": "text"
      },
      "source": [
        "> By the above analysis, it is clear that the month column is definitely relevant but in the form of buckets. So let's convert the continuous month column into buckets (categorical). \n",
        "\n",
        "> Bucketizing basically means aggregating/putting the values in the corresponding ranges.\n",
        "For example, 7 belongs in the range 6-8, 11 belongs in the range 10-12 and so on."
      ]
    },
    {
      "cell_type": "markdown",
      "metadata": {
        "id": "9dr-mSo4y351",
        "colab_type": "text"
      },
      "source": [
        "***Now, let's replace the ‘Month’ column with the bucketized column***"
      ]
    },
    {
      "cell_type": "code",
      "metadata": {
        "id": "PJQ_MiUlxipU",
        "colab_type": "code",
        "colab": {
          "base_uri": "https://localhost:8080/",
          "height": 217
        },
        "outputId": "d9f592ad-cbf0-40ee-8f64-b86070123610"
      },
      "source": [
        "df[\"month\"] = pd.cut(df[\"month\"],bins=[0,2,4,6,8,10,12])\n",
        "df.head()"
      ],
      "execution_count": 138,
      "outputs": [
        {
          "output_type": "execute_result",
          "data": {
            "text/html": [
              "<div>\n",
              "<style scoped>\n",
              "    .dataframe tbody tr th:only-of-type {\n",
              "        vertical-align: middle;\n",
              "    }\n",
              "\n",
              "    .dataframe tbody tr th {\n",
              "        vertical-align: top;\n",
              "    }\n",
              "\n",
              "    .dataframe thead th {\n",
              "        text-align: right;\n",
              "    }\n",
              "</style>\n",
              "<table border=\"1\" class=\"dataframe\">\n",
              "  <thead>\n",
              "    <tr style=\"text-align: right;\">\n",
              "      <th></th>\n",
              "      <th>supermarket</th>\n",
              "      <th>no_of_items</th>\n",
              "      <th>variation</th>\n",
              "      <th>total</th>\n",
              "      <th>paid</th>\n",
              "      <th>change</th>\n",
              "      <th>type</th>\n",
              "      <th>food</th>\n",
              "      <th>snack</th>\n",
              "      <th>beverage</th>\n",
              "      <th>consumables</th>\n",
              "      <th>high_end</th>\n",
              "      <th>asset</th>\n",
              "      <th>fixed_asset</th>\n",
              "      <th>date</th>\n",
              "      <th>mall</th>\n",
              "      <th>time</th>\n",
              "      <th>time_type</th>\n",
              "      <th>type_market</th>\n",
              "      <th>location</th>\n",
              "      <th>loc_category</th>\n",
              "      <th>day</th>\n",
              "      <th>day_type</th>\n",
              "      <th>24hr</th>\n",
              "      <th>day.1</th>\n",
              "      <th>month</th>\n",
              "      <th>year</th>\n",
              "    </tr>\n",
              "  </thead>\n",
              "  <tbody>\n",
              "    <tr>\n",
              "      <th>0</th>\n",
              "      <td>acacia</td>\n",
              "      <td>1</td>\n",
              "      <td>1</td>\n",
              "      <td>90.0</td>\n",
              "      <td>100.0</td>\n",
              "      <td>10.0</td>\n",
              "      <td>cash</td>\n",
              "      <td>yes</td>\n",
              "      <td>no</td>\n",
              "      <td>no</td>\n",
              "      <td>no</td>\n",
              "      <td>no</td>\n",
              "      <td>no</td>\n",
              "      <td>no</td>\n",
              "      <td>20/05/2017</td>\n",
              "      <td>no</td>\n",
              "      <td>19:33:00</td>\n",
              "      <td>night</td>\n",
              "      <td>small</td>\n",
              "      <td>saika</td>\n",
              "      <td>mid</td>\n",
              "      <td>saturday</td>\n",
              "      <td>weekend</td>\n",
              "      <td>no</td>\n",
              "      <td>20</td>\n",
              "      <td>(4, 6]</td>\n",
              "      <td>2017.0</td>\n",
              "    </tr>\n",
              "    <tr>\n",
              "      <th>1</th>\n",
              "      <td>acacia</td>\n",
              "      <td>1</td>\n",
              "      <td>1</td>\n",
              "      <td>90.0</td>\n",
              "      <td>500.0</td>\n",
              "      <td>410.0</td>\n",
              "      <td>cash</td>\n",
              "      <td>yes</td>\n",
              "      <td>no</td>\n",
              "      <td>no</td>\n",
              "      <td>no</td>\n",
              "      <td>no</td>\n",
              "      <td>no</td>\n",
              "      <td>no</td>\n",
              "      <td>20/05/2017</td>\n",
              "      <td>no</td>\n",
              "      <td>19:12:00</td>\n",
              "      <td>night</td>\n",
              "      <td>small</td>\n",
              "      <td>saika</td>\n",
              "      <td>mid</td>\n",
              "      <td>saturday</td>\n",
              "      <td>weekend</td>\n",
              "      <td>no</td>\n",
              "      <td>20</td>\n",
              "      <td>(4, 6]</td>\n",
              "      <td>2017.0</td>\n",
              "    </tr>\n",
              "    <tr>\n",
              "      <th>2</th>\n",
              "      <td>acacia</td>\n",
              "      <td>3</td>\n",
              "      <td>1</td>\n",
              "      <td>270.0</td>\n",
              "      <td>300.0</td>\n",
              "      <td>30.0</td>\n",
              "      <td>cash</td>\n",
              "      <td>yes</td>\n",
              "      <td>no</td>\n",
              "      <td>no</td>\n",
              "      <td>no</td>\n",
              "      <td>no</td>\n",
              "      <td>no</td>\n",
              "      <td>no</td>\n",
              "      <td>20/05/2017</td>\n",
              "      <td>no</td>\n",
              "      <td>19:16:00</td>\n",
              "      <td>night</td>\n",
              "      <td>small</td>\n",
              "      <td>saika</td>\n",
              "      <td>mid</td>\n",
              "      <td>saturday</td>\n",
              "      <td>weekend</td>\n",
              "      <td>no</td>\n",
              "      <td>20</td>\n",
              "      <td>(4, 6]</td>\n",
              "      <td>2017.0</td>\n",
              "    </tr>\n",
              "    <tr>\n",
              "      <th>3</th>\n",
              "      <td>acacia</td>\n",
              "      <td>3</td>\n",
              "      <td>1</td>\n",
              "      <td>137.0</td>\n",
              "      <td>200.0</td>\n",
              "      <td>63.0</td>\n",
              "      <td>cash</td>\n",
              "      <td>yes</td>\n",
              "      <td>no</td>\n",
              "      <td>no</td>\n",
              "      <td>no</td>\n",
              "      <td>no</td>\n",
              "      <td>no</td>\n",
              "      <td>no</td>\n",
              "      <td>20/05/2017</td>\n",
              "      <td>no</td>\n",
              "      <td>19:12:00</td>\n",
              "      <td>night</td>\n",
              "      <td>small</td>\n",
              "      <td>saika</td>\n",
              "      <td>mid</td>\n",
              "      <td>saturday</td>\n",
              "      <td>weekend</td>\n",
              "      <td>no</td>\n",
              "      <td>20</td>\n",
              "      <td>(4, 6]</td>\n",
              "      <td>2017.0</td>\n",
              "    </tr>\n",
              "    <tr>\n",
              "      <th>4</th>\n",
              "      <td>acacia</td>\n",
              "      <td>1</td>\n",
              "      <td>1</td>\n",
              "      <td>75.0</td>\n",
              "      <td>80.0</td>\n",
              "      <td>5.0</td>\n",
              "      <td>cash</td>\n",
              "      <td>yes</td>\n",
              "      <td>no</td>\n",
              "      <td>no</td>\n",
              "      <td>no</td>\n",
              "      <td>no</td>\n",
              "      <td>no</td>\n",
              "      <td>no</td>\n",
              "      <td>20/05/2017</td>\n",
              "      <td>no</td>\n",
              "      <td>18:31:00</td>\n",
              "      <td>afternoon</td>\n",
              "      <td>small</td>\n",
              "      <td>saika</td>\n",
              "      <td>mid</td>\n",
              "      <td>saturday</td>\n",
              "      <td>weekend</td>\n",
              "      <td>no</td>\n",
              "      <td>20</td>\n",
              "      <td>(4, 6]</td>\n",
              "      <td>2017.0</td>\n",
              "    </tr>\n",
              "  </tbody>\n",
              "</table>\n",
              "</div>"
            ],
            "text/plain": [
              "  supermarket  no_of_items  variation  total  ...  24hr  day.1   month    year\n",
              "0      acacia            1          1   90.0  ...    no     20  (4, 6]  2017.0\n",
              "1      acacia            1          1   90.0  ...    no     20  (4, 6]  2017.0\n",
              "2      acacia            3          1  270.0  ...    no     20  (4, 6]  2017.0\n",
              "3      acacia            3          1  137.0  ...    no     20  (4, 6]  2017.0\n",
              "4      acacia            1          1   75.0  ...    no     20  (4, 6]  2017.0\n",
              "\n",
              "[5 rows x 27 columns]"
            ]
          },
          "metadata": {
            "tags": []
          },
          "execution_count": 138
        }
      ]
    },
    {
      "cell_type": "markdown",
      "metadata": {
        "id": "z_AfSaQgzc4q",
        "colab_type": "text"
      },
      "source": [
        "### Geting Dummies"
      ]
    },
    {
      "cell_type": "code",
      "metadata": {
        "id": "tQqZ-Vg-0fc8",
        "colab_type": "code",
        "colab": {
          "base_uri": "https://localhost:8080/",
          "height": 97
        },
        "outputId": "748c09b6-042d-4064-c8fe-5211175594a5"
      },
      "source": [
        "df.head(1)"
      ],
      "execution_count": 139,
      "outputs": [
        {
          "output_type": "execute_result",
          "data": {
            "text/html": [
              "<div>\n",
              "<style scoped>\n",
              "    .dataframe tbody tr th:only-of-type {\n",
              "        vertical-align: middle;\n",
              "    }\n",
              "\n",
              "    .dataframe tbody tr th {\n",
              "        vertical-align: top;\n",
              "    }\n",
              "\n",
              "    .dataframe thead th {\n",
              "        text-align: right;\n",
              "    }\n",
              "</style>\n",
              "<table border=\"1\" class=\"dataframe\">\n",
              "  <thead>\n",
              "    <tr style=\"text-align: right;\">\n",
              "      <th></th>\n",
              "      <th>supermarket</th>\n",
              "      <th>no_of_items</th>\n",
              "      <th>variation</th>\n",
              "      <th>total</th>\n",
              "      <th>paid</th>\n",
              "      <th>change</th>\n",
              "      <th>type</th>\n",
              "      <th>food</th>\n",
              "      <th>snack</th>\n",
              "      <th>beverage</th>\n",
              "      <th>consumables</th>\n",
              "      <th>high_end</th>\n",
              "      <th>asset</th>\n",
              "      <th>fixed_asset</th>\n",
              "      <th>date</th>\n",
              "      <th>mall</th>\n",
              "      <th>time</th>\n",
              "      <th>time_type</th>\n",
              "      <th>type_market</th>\n",
              "      <th>location</th>\n",
              "      <th>loc_category</th>\n",
              "      <th>day</th>\n",
              "      <th>day_type</th>\n",
              "      <th>24hr</th>\n",
              "      <th>day.1</th>\n",
              "      <th>month</th>\n",
              "      <th>year</th>\n",
              "    </tr>\n",
              "  </thead>\n",
              "  <tbody>\n",
              "    <tr>\n",
              "      <th>0</th>\n",
              "      <td>acacia</td>\n",
              "      <td>1</td>\n",
              "      <td>1</td>\n",
              "      <td>90.0</td>\n",
              "      <td>100.0</td>\n",
              "      <td>10.0</td>\n",
              "      <td>cash</td>\n",
              "      <td>yes</td>\n",
              "      <td>no</td>\n",
              "      <td>no</td>\n",
              "      <td>no</td>\n",
              "      <td>no</td>\n",
              "      <td>no</td>\n",
              "      <td>no</td>\n",
              "      <td>20/05/2017</td>\n",
              "      <td>no</td>\n",
              "      <td>19:33:00</td>\n",
              "      <td>night</td>\n",
              "      <td>small</td>\n",
              "      <td>saika</td>\n",
              "      <td>mid</td>\n",
              "      <td>saturday</td>\n",
              "      <td>weekend</td>\n",
              "      <td>no</td>\n",
              "      <td>20</td>\n",
              "      <td>(4, 6]</td>\n",
              "      <td>2017.0</td>\n",
              "    </tr>\n",
              "  </tbody>\n",
              "</table>\n",
              "</div>"
            ],
            "text/plain": [
              "  supermarket  no_of_items  variation  total  ...  24hr  day.1   month    year\n",
              "0      acacia            1          1   90.0  ...    no     20  (4, 6]  2017.0\n",
              "\n",
              "[1 rows x 27 columns]"
            ]
          },
          "metadata": {
            "tags": []
          },
          "execution_count": 139
        }
      ]
    },
    {
      "cell_type": "code",
      "metadata": {
        "id": "5bl5hOEf0V_g",
        "colab_type": "code",
        "colab": {
          "base_uri": "https://localhost:8080/",
          "height": 123
        },
        "outputId": "94831d61-311a-4da2-e0f0-781217f728ae"
      },
      "source": [
        "df.columns"
      ],
      "execution_count": 140,
      "outputs": [
        {
          "output_type": "execute_result",
          "data": {
            "text/plain": [
              "Index(['supermarket', 'no_of_items', 'variation', 'total', 'paid', 'change',\n",
              "       'type', 'food', 'snack', 'beverage', 'consumables', 'high_end', 'asset',\n",
              "       'fixed_asset', 'date', 'mall', 'time', 'time_type', 'type_market',\n",
              "       'location', 'loc_category', 'day', 'day_type', '24hr', 'day.1', 'month',\n",
              "       'year'],\n",
              "      dtype='object')"
            ]
          },
          "metadata": {
            "tags": []
          },
          "execution_count": 140
        }
      ]
    },
    {
      "cell_type": "code",
      "metadata": {
        "id": "vMdzrX0ozKAs",
        "colab_type": "code",
        "colab": {
          "base_uri": "https://localhost:8080/",
          "height": 143
        },
        "outputId": "36ca6d80-42da-4cf0-c34d-3c60baa2f0e3"
      },
      "source": [
        "df = pd.get_dummies(df)\n",
        "df.head(1)"
      ],
      "execution_count": 141,
      "outputs": [
        {
          "output_type": "execute_result",
          "data": {
            "text/html": [
              "<div>\n",
              "<style scoped>\n",
              "    .dataframe tbody tr th:only-of-type {\n",
              "        vertical-align: middle;\n",
              "    }\n",
              "\n",
              "    .dataframe tbody tr th {\n",
              "        vertical-align: top;\n",
              "    }\n",
              "\n",
              "    .dataframe thead th {\n",
              "        text-align: right;\n",
              "    }\n",
              "</style>\n",
              "<table border=\"1\" class=\"dataframe\">\n",
              "  <thead>\n",
              "    <tr style=\"text-align: right;\">\n",
              "      <th></th>\n",
              "      <th>no_of_items</th>\n",
              "      <th>variation</th>\n",
              "      <th>total</th>\n",
              "      <th>paid</th>\n",
              "      <th>change</th>\n",
              "      <th>year</th>\n",
              "      <th>supermarket_Eastmatt</th>\n",
              "      <th>supermarket_Naivas</th>\n",
              "      <th>supermarket_Selfridges</th>\n",
              "      <th>supermarket_Tuskys</th>\n",
              "      <th>supermarket_acacia</th>\n",
              "      <th>supermarket_chandarana</th>\n",
              "      <th>supermarket_cleanshelf</th>\n",
              "      <th>supermarket_eastmatt</th>\n",
              "      <th>supermarket_fairway</th>\n",
              "      <th>supermarket_foodplus</th>\n",
              "      <th>supermarket_interstrat</th>\n",
              "      <th>supermarket_kamindi</th>\n",
              "      <th>supermarket_karrymart</th>\n",
              "      <th>supermarket_kassmart</th>\n",
              "      <th>supermarket_large neema</th>\n",
              "      <th>supermarket_magna</th>\n",
              "      <th>supermarket_naivas</th>\n",
              "      <th>supermarket_nakumatt</th>\n",
              "      <th>supermarket_neema</th>\n",
              "      <th>supermarket_tumaini</th>\n",
              "      <th>supermarket_tuskys</th>\n",
              "      <th>supermarket_uchumi</th>\n",
              "      <th>supermarket_ukwala</th>\n",
              "      <th>supermarket_zucchini</th>\n",
              "      <th>type_card</th>\n",
              "      <th>type_cash</th>\n",
              "      <th>type_credit card</th>\n",
              "      <th>type_mpesa</th>\n",
              "      <th>type_points</th>\n",
              "      <th>type_redeemed points</th>\n",
              "      <th>type_voucher</th>\n",
              "      <th>food_no</th>\n",
              "      <th>food_yes</th>\n",
              "      <th>snack_no</th>\n",
              "      <th>...</th>\n",
              "      <th>24hr_yes</th>\n",
              "      <th>day.1_1</th>\n",
              "      <th>day.1_2</th>\n",
              "      <th>day.1_3</th>\n",
              "      <th>day.1_4</th>\n",
              "      <th>day.1_5</th>\n",
              "      <th>day.1_6</th>\n",
              "      <th>day.1_7</th>\n",
              "      <th>day.1_8</th>\n",
              "      <th>day.1_9</th>\n",
              "      <th>day.1_10</th>\n",
              "      <th>day.1_11</th>\n",
              "      <th>day.1_12</th>\n",
              "      <th>day.1_13</th>\n",
              "      <th>day.1_14</th>\n",
              "      <th>day.1_15</th>\n",
              "      <th>day.1_16</th>\n",
              "      <th>day.1_17</th>\n",
              "      <th>day.1_18</th>\n",
              "      <th>day.1_19</th>\n",
              "      <th>day.1_20</th>\n",
              "      <th>day.1_21</th>\n",
              "      <th>day.1_22</th>\n",
              "      <th>day.1_23</th>\n",
              "      <th>day.1_24</th>\n",
              "      <th>day.1_25</th>\n",
              "      <th>day.1_26</th>\n",
              "      <th>day.1_27</th>\n",
              "      <th>day.1_28</th>\n",
              "      <th>day.1_29</th>\n",
              "      <th>day.1_30</th>\n",
              "      <th>day.1_31</th>\n",
              "      <th>day.1_2305</th>\n",
              "      <th>day.1_17?06</th>\n",
              "      <th>month_(0, 2]</th>\n",
              "      <th>month_(2, 4]</th>\n",
              "      <th>month_(4, 6]</th>\n",
              "      <th>month_(6, 8]</th>\n",
              "      <th>month_(8, 10]</th>\n",
              "      <th>month_(10, 12]</th>\n",
              "    </tr>\n",
              "  </thead>\n",
              "  <tbody>\n",
              "    <tr>\n",
              "      <th>0</th>\n",
              "      <td>1</td>\n",
              "      <td>1</td>\n",
              "      <td>90.0</td>\n",
              "      <td>100.0</td>\n",
              "      <td>10.0</td>\n",
              "      <td>2017.0</td>\n",
              "      <td>0</td>\n",
              "      <td>0</td>\n",
              "      <td>0</td>\n",
              "      <td>0</td>\n",
              "      <td>1</td>\n",
              "      <td>0</td>\n",
              "      <td>0</td>\n",
              "      <td>0</td>\n",
              "      <td>0</td>\n",
              "      <td>0</td>\n",
              "      <td>0</td>\n",
              "      <td>0</td>\n",
              "      <td>0</td>\n",
              "      <td>0</td>\n",
              "      <td>0</td>\n",
              "      <td>0</td>\n",
              "      <td>0</td>\n",
              "      <td>0</td>\n",
              "      <td>0</td>\n",
              "      <td>0</td>\n",
              "      <td>0</td>\n",
              "      <td>0</td>\n",
              "      <td>0</td>\n",
              "      <td>0</td>\n",
              "      <td>0</td>\n",
              "      <td>1</td>\n",
              "      <td>0</td>\n",
              "      <td>0</td>\n",
              "      <td>0</td>\n",
              "      <td>0</td>\n",
              "      <td>0</td>\n",
              "      <td>0</td>\n",
              "      <td>1</td>\n",
              "      <td>1</td>\n",
              "      <td>...</td>\n",
              "      <td>0</td>\n",
              "      <td>0</td>\n",
              "      <td>0</td>\n",
              "      <td>0</td>\n",
              "      <td>0</td>\n",
              "      <td>0</td>\n",
              "      <td>0</td>\n",
              "      <td>0</td>\n",
              "      <td>0</td>\n",
              "      <td>0</td>\n",
              "      <td>0</td>\n",
              "      <td>0</td>\n",
              "      <td>0</td>\n",
              "      <td>0</td>\n",
              "      <td>0</td>\n",
              "      <td>0</td>\n",
              "      <td>0</td>\n",
              "      <td>0</td>\n",
              "      <td>0</td>\n",
              "      <td>0</td>\n",
              "      <td>1</td>\n",
              "      <td>0</td>\n",
              "      <td>0</td>\n",
              "      <td>0</td>\n",
              "      <td>0</td>\n",
              "      <td>0</td>\n",
              "      <td>0</td>\n",
              "      <td>0</td>\n",
              "      <td>0</td>\n",
              "      <td>0</td>\n",
              "      <td>0</td>\n",
              "      <td>0</td>\n",
              "      <td>0</td>\n",
              "      <td>0</td>\n",
              "      <td>0</td>\n",
              "      <td>0</td>\n",
              "      <td>1</td>\n",
              "      <td>0</td>\n",
              "      <td>0</td>\n",
              "      <td>0</td>\n",
              "    </tr>\n",
              "  </tbody>\n",
              "</table>\n",
              "<p>1 rows × 980 columns</p>\n",
              "</div>"
            ],
            "text/plain": [
              "   no_of_items  variation  total  ...  month_(6, 8]  month_(8, 10]  month_(10, 12]\n",
              "0            1          1   90.0  ...             0              0               0\n",
              "\n",
              "[1 rows x 980 columns]"
            ]
          },
          "metadata": {
            "tags": []
          },
          "execution_count": 141
        }
      ]
    },
    {
      "cell_type": "markdown",
      "metadata": {
        "id": "VqdGyCzQ1BCS",
        "colab_type": "text"
      },
      "source": [
        "**Remove one column each from the created dummy variables to avoid ‘dummy variable trap**"
      ]
    },
    {
      "cell_type": "code",
      "metadata": {
        "id": "CMy58w6hzSLl",
        "colab_type": "code",
        "colab": {
          "base_uri": "https://localhost:8080/",
          "height": 203
        },
        "outputId": "a7abba57-dd23-495f-db43-07bd942a5d73"
      },
      "source": [
        "df = df.drop(columns=[\"type_voucher\",\"food_no\",'snack_no', 'beverage_no', 'consumables_no',\\\n",
        "                      'high_end_no', 'asset_no','mall_no','fixed_asset_no', 'day.1_6'],axis=1)\n",
        "df.head(3)"
      ],
      "execution_count": 142,
      "outputs": [
        {
          "output_type": "execute_result",
          "data": {
            "text/html": [
              "<div>\n",
              "<style scoped>\n",
              "    .dataframe tbody tr th:only-of-type {\n",
              "        vertical-align: middle;\n",
              "    }\n",
              "\n",
              "    .dataframe tbody tr th {\n",
              "        vertical-align: top;\n",
              "    }\n",
              "\n",
              "    .dataframe thead th {\n",
              "        text-align: right;\n",
              "    }\n",
              "</style>\n",
              "<table border=\"1\" class=\"dataframe\">\n",
              "  <thead>\n",
              "    <tr style=\"text-align: right;\">\n",
              "      <th></th>\n",
              "      <th>no_of_items</th>\n",
              "      <th>variation</th>\n",
              "      <th>total</th>\n",
              "      <th>paid</th>\n",
              "      <th>change</th>\n",
              "      <th>year</th>\n",
              "      <th>supermarket_Eastmatt</th>\n",
              "      <th>supermarket_Naivas</th>\n",
              "      <th>supermarket_Selfridges</th>\n",
              "      <th>supermarket_Tuskys</th>\n",
              "      <th>supermarket_acacia</th>\n",
              "      <th>supermarket_chandarana</th>\n",
              "      <th>supermarket_cleanshelf</th>\n",
              "      <th>supermarket_eastmatt</th>\n",
              "      <th>supermarket_fairway</th>\n",
              "      <th>supermarket_foodplus</th>\n",
              "      <th>supermarket_interstrat</th>\n",
              "      <th>supermarket_kamindi</th>\n",
              "      <th>supermarket_karrymart</th>\n",
              "      <th>supermarket_kassmart</th>\n",
              "      <th>supermarket_large neema</th>\n",
              "      <th>supermarket_magna</th>\n",
              "      <th>supermarket_naivas</th>\n",
              "      <th>supermarket_nakumatt</th>\n",
              "      <th>supermarket_neema</th>\n",
              "      <th>supermarket_tumaini</th>\n",
              "      <th>supermarket_tuskys</th>\n",
              "      <th>supermarket_uchumi</th>\n",
              "      <th>supermarket_ukwala</th>\n",
              "      <th>supermarket_zucchini</th>\n",
              "      <th>type_card</th>\n",
              "      <th>type_cash</th>\n",
              "      <th>type_credit card</th>\n",
              "      <th>type_mpesa</th>\n",
              "      <th>type_points</th>\n",
              "      <th>type_redeemed points</th>\n",
              "      <th>food_yes</th>\n",
              "      <th>snack_yes</th>\n",
              "      <th>beverage_yes</th>\n",
              "      <th>consumables_yes</th>\n",
              "      <th>...</th>\n",
              "      <th>24hr_no</th>\n",
              "      <th>24hr_yes</th>\n",
              "      <th>day.1_1</th>\n",
              "      <th>day.1_2</th>\n",
              "      <th>day.1_3</th>\n",
              "      <th>day.1_4</th>\n",
              "      <th>day.1_5</th>\n",
              "      <th>day.1_7</th>\n",
              "      <th>day.1_8</th>\n",
              "      <th>day.1_9</th>\n",
              "      <th>day.1_10</th>\n",
              "      <th>day.1_11</th>\n",
              "      <th>day.1_12</th>\n",
              "      <th>day.1_13</th>\n",
              "      <th>day.1_14</th>\n",
              "      <th>day.1_15</th>\n",
              "      <th>day.1_16</th>\n",
              "      <th>day.1_17</th>\n",
              "      <th>day.1_18</th>\n",
              "      <th>day.1_19</th>\n",
              "      <th>day.1_20</th>\n",
              "      <th>day.1_21</th>\n",
              "      <th>day.1_22</th>\n",
              "      <th>day.1_23</th>\n",
              "      <th>day.1_24</th>\n",
              "      <th>day.1_25</th>\n",
              "      <th>day.1_26</th>\n",
              "      <th>day.1_27</th>\n",
              "      <th>day.1_28</th>\n",
              "      <th>day.1_29</th>\n",
              "      <th>day.1_30</th>\n",
              "      <th>day.1_31</th>\n",
              "      <th>day.1_2305</th>\n",
              "      <th>day.1_17?06</th>\n",
              "      <th>month_(0, 2]</th>\n",
              "      <th>month_(2, 4]</th>\n",
              "      <th>month_(4, 6]</th>\n",
              "      <th>month_(6, 8]</th>\n",
              "      <th>month_(8, 10]</th>\n",
              "      <th>month_(10, 12]</th>\n",
              "    </tr>\n",
              "  </thead>\n",
              "  <tbody>\n",
              "    <tr>\n",
              "      <th>0</th>\n",
              "      <td>1</td>\n",
              "      <td>1</td>\n",
              "      <td>90.0</td>\n",
              "      <td>100.0</td>\n",
              "      <td>10.0</td>\n",
              "      <td>2017.0</td>\n",
              "      <td>0</td>\n",
              "      <td>0</td>\n",
              "      <td>0</td>\n",
              "      <td>0</td>\n",
              "      <td>1</td>\n",
              "      <td>0</td>\n",
              "      <td>0</td>\n",
              "      <td>0</td>\n",
              "      <td>0</td>\n",
              "      <td>0</td>\n",
              "      <td>0</td>\n",
              "      <td>0</td>\n",
              "      <td>0</td>\n",
              "      <td>0</td>\n",
              "      <td>0</td>\n",
              "      <td>0</td>\n",
              "      <td>0</td>\n",
              "      <td>0</td>\n",
              "      <td>0</td>\n",
              "      <td>0</td>\n",
              "      <td>0</td>\n",
              "      <td>0</td>\n",
              "      <td>0</td>\n",
              "      <td>0</td>\n",
              "      <td>0</td>\n",
              "      <td>1</td>\n",
              "      <td>0</td>\n",
              "      <td>0</td>\n",
              "      <td>0</td>\n",
              "      <td>0</td>\n",
              "      <td>1</td>\n",
              "      <td>0</td>\n",
              "      <td>0</td>\n",
              "      <td>0</td>\n",
              "      <td>...</td>\n",
              "      <td>1</td>\n",
              "      <td>0</td>\n",
              "      <td>0</td>\n",
              "      <td>0</td>\n",
              "      <td>0</td>\n",
              "      <td>0</td>\n",
              "      <td>0</td>\n",
              "      <td>0</td>\n",
              "      <td>0</td>\n",
              "      <td>0</td>\n",
              "      <td>0</td>\n",
              "      <td>0</td>\n",
              "      <td>0</td>\n",
              "      <td>0</td>\n",
              "      <td>0</td>\n",
              "      <td>0</td>\n",
              "      <td>0</td>\n",
              "      <td>0</td>\n",
              "      <td>0</td>\n",
              "      <td>0</td>\n",
              "      <td>1</td>\n",
              "      <td>0</td>\n",
              "      <td>0</td>\n",
              "      <td>0</td>\n",
              "      <td>0</td>\n",
              "      <td>0</td>\n",
              "      <td>0</td>\n",
              "      <td>0</td>\n",
              "      <td>0</td>\n",
              "      <td>0</td>\n",
              "      <td>0</td>\n",
              "      <td>0</td>\n",
              "      <td>0</td>\n",
              "      <td>0</td>\n",
              "      <td>0</td>\n",
              "      <td>0</td>\n",
              "      <td>1</td>\n",
              "      <td>0</td>\n",
              "      <td>0</td>\n",
              "      <td>0</td>\n",
              "    </tr>\n",
              "    <tr>\n",
              "      <th>1</th>\n",
              "      <td>1</td>\n",
              "      <td>1</td>\n",
              "      <td>90.0</td>\n",
              "      <td>500.0</td>\n",
              "      <td>410.0</td>\n",
              "      <td>2017.0</td>\n",
              "      <td>0</td>\n",
              "      <td>0</td>\n",
              "      <td>0</td>\n",
              "      <td>0</td>\n",
              "      <td>1</td>\n",
              "      <td>0</td>\n",
              "      <td>0</td>\n",
              "      <td>0</td>\n",
              "      <td>0</td>\n",
              "      <td>0</td>\n",
              "      <td>0</td>\n",
              "      <td>0</td>\n",
              "      <td>0</td>\n",
              "      <td>0</td>\n",
              "      <td>0</td>\n",
              "      <td>0</td>\n",
              "      <td>0</td>\n",
              "      <td>0</td>\n",
              "      <td>0</td>\n",
              "      <td>0</td>\n",
              "      <td>0</td>\n",
              "      <td>0</td>\n",
              "      <td>0</td>\n",
              "      <td>0</td>\n",
              "      <td>0</td>\n",
              "      <td>1</td>\n",
              "      <td>0</td>\n",
              "      <td>0</td>\n",
              "      <td>0</td>\n",
              "      <td>0</td>\n",
              "      <td>1</td>\n",
              "      <td>0</td>\n",
              "      <td>0</td>\n",
              "      <td>0</td>\n",
              "      <td>...</td>\n",
              "      <td>1</td>\n",
              "      <td>0</td>\n",
              "      <td>0</td>\n",
              "      <td>0</td>\n",
              "      <td>0</td>\n",
              "      <td>0</td>\n",
              "      <td>0</td>\n",
              "      <td>0</td>\n",
              "      <td>0</td>\n",
              "      <td>0</td>\n",
              "      <td>0</td>\n",
              "      <td>0</td>\n",
              "      <td>0</td>\n",
              "      <td>0</td>\n",
              "      <td>0</td>\n",
              "      <td>0</td>\n",
              "      <td>0</td>\n",
              "      <td>0</td>\n",
              "      <td>0</td>\n",
              "      <td>0</td>\n",
              "      <td>1</td>\n",
              "      <td>0</td>\n",
              "      <td>0</td>\n",
              "      <td>0</td>\n",
              "      <td>0</td>\n",
              "      <td>0</td>\n",
              "      <td>0</td>\n",
              "      <td>0</td>\n",
              "      <td>0</td>\n",
              "      <td>0</td>\n",
              "      <td>0</td>\n",
              "      <td>0</td>\n",
              "      <td>0</td>\n",
              "      <td>0</td>\n",
              "      <td>0</td>\n",
              "      <td>0</td>\n",
              "      <td>1</td>\n",
              "      <td>0</td>\n",
              "      <td>0</td>\n",
              "      <td>0</td>\n",
              "    </tr>\n",
              "    <tr>\n",
              "      <th>2</th>\n",
              "      <td>3</td>\n",
              "      <td>1</td>\n",
              "      <td>270.0</td>\n",
              "      <td>300.0</td>\n",
              "      <td>30.0</td>\n",
              "      <td>2017.0</td>\n",
              "      <td>0</td>\n",
              "      <td>0</td>\n",
              "      <td>0</td>\n",
              "      <td>0</td>\n",
              "      <td>1</td>\n",
              "      <td>0</td>\n",
              "      <td>0</td>\n",
              "      <td>0</td>\n",
              "      <td>0</td>\n",
              "      <td>0</td>\n",
              "      <td>0</td>\n",
              "      <td>0</td>\n",
              "      <td>0</td>\n",
              "      <td>0</td>\n",
              "      <td>0</td>\n",
              "      <td>0</td>\n",
              "      <td>0</td>\n",
              "      <td>0</td>\n",
              "      <td>0</td>\n",
              "      <td>0</td>\n",
              "      <td>0</td>\n",
              "      <td>0</td>\n",
              "      <td>0</td>\n",
              "      <td>0</td>\n",
              "      <td>0</td>\n",
              "      <td>1</td>\n",
              "      <td>0</td>\n",
              "      <td>0</td>\n",
              "      <td>0</td>\n",
              "      <td>0</td>\n",
              "      <td>1</td>\n",
              "      <td>0</td>\n",
              "      <td>0</td>\n",
              "      <td>0</td>\n",
              "      <td>...</td>\n",
              "      <td>1</td>\n",
              "      <td>0</td>\n",
              "      <td>0</td>\n",
              "      <td>0</td>\n",
              "      <td>0</td>\n",
              "      <td>0</td>\n",
              "      <td>0</td>\n",
              "      <td>0</td>\n",
              "      <td>0</td>\n",
              "      <td>0</td>\n",
              "      <td>0</td>\n",
              "      <td>0</td>\n",
              "      <td>0</td>\n",
              "      <td>0</td>\n",
              "      <td>0</td>\n",
              "      <td>0</td>\n",
              "      <td>0</td>\n",
              "      <td>0</td>\n",
              "      <td>0</td>\n",
              "      <td>0</td>\n",
              "      <td>1</td>\n",
              "      <td>0</td>\n",
              "      <td>0</td>\n",
              "      <td>0</td>\n",
              "      <td>0</td>\n",
              "      <td>0</td>\n",
              "      <td>0</td>\n",
              "      <td>0</td>\n",
              "      <td>0</td>\n",
              "      <td>0</td>\n",
              "      <td>0</td>\n",
              "      <td>0</td>\n",
              "      <td>0</td>\n",
              "      <td>0</td>\n",
              "      <td>0</td>\n",
              "      <td>0</td>\n",
              "      <td>1</td>\n",
              "      <td>0</td>\n",
              "      <td>0</td>\n",
              "      <td>0</td>\n",
              "    </tr>\n",
              "  </tbody>\n",
              "</table>\n",
              "<p>3 rows × 970 columns</p>\n",
              "</div>"
            ],
            "text/plain": [
              "   no_of_items  variation  total  ...  month_(6, 8]  month_(8, 10]  month_(10, 12]\n",
              "0            1          1   90.0  ...             0              0               0\n",
              "1            1          1   90.0  ...             0              0               0\n",
              "2            3          1  270.0  ...             0              0               0\n",
              "\n",
              "[3 rows x 970 columns]"
            ]
          },
          "metadata": {
            "tags": []
          },
          "execution_count": 142
        }
      ]
    },
    {
      "cell_type": "code",
      "metadata": {
        "id": "E5551pGo1cBZ",
        "colab_type": "code",
        "colab": {
          "base_uri": "https://localhost:8080/",
          "height": 263
        },
        "outputId": "7d76e562-4e96-4078-ad57-ef305c47bf05"
      },
      "source": [
        "df = df.iloc[:,:-1]\n",
        "df.head()"
      ],
      "execution_count": 143,
      "outputs": [
        {
          "output_type": "execute_result",
          "data": {
            "text/html": [
              "<div>\n",
              "<style scoped>\n",
              "    .dataframe tbody tr th:only-of-type {\n",
              "        vertical-align: middle;\n",
              "    }\n",
              "\n",
              "    .dataframe tbody tr th {\n",
              "        vertical-align: top;\n",
              "    }\n",
              "\n",
              "    .dataframe thead th {\n",
              "        text-align: right;\n",
              "    }\n",
              "</style>\n",
              "<table border=\"1\" class=\"dataframe\">\n",
              "  <thead>\n",
              "    <tr style=\"text-align: right;\">\n",
              "      <th></th>\n",
              "      <th>no_of_items</th>\n",
              "      <th>variation</th>\n",
              "      <th>total</th>\n",
              "      <th>paid</th>\n",
              "      <th>change</th>\n",
              "      <th>year</th>\n",
              "      <th>supermarket_Eastmatt</th>\n",
              "      <th>supermarket_Naivas</th>\n",
              "      <th>supermarket_Selfridges</th>\n",
              "      <th>supermarket_Tuskys</th>\n",
              "      <th>supermarket_acacia</th>\n",
              "      <th>supermarket_chandarana</th>\n",
              "      <th>supermarket_cleanshelf</th>\n",
              "      <th>supermarket_eastmatt</th>\n",
              "      <th>supermarket_fairway</th>\n",
              "      <th>supermarket_foodplus</th>\n",
              "      <th>supermarket_interstrat</th>\n",
              "      <th>supermarket_kamindi</th>\n",
              "      <th>supermarket_karrymart</th>\n",
              "      <th>supermarket_kassmart</th>\n",
              "      <th>supermarket_large neema</th>\n",
              "      <th>supermarket_magna</th>\n",
              "      <th>supermarket_naivas</th>\n",
              "      <th>supermarket_nakumatt</th>\n",
              "      <th>supermarket_neema</th>\n",
              "      <th>supermarket_tumaini</th>\n",
              "      <th>supermarket_tuskys</th>\n",
              "      <th>supermarket_uchumi</th>\n",
              "      <th>supermarket_ukwala</th>\n",
              "      <th>supermarket_zucchini</th>\n",
              "      <th>type_card</th>\n",
              "      <th>type_cash</th>\n",
              "      <th>type_credit card</th>\n",
              "      <th>type_mpesa</th>\n",
              "      <th>type_points</th>\n",
              "      <th>type_redeemed points</th>\n",
              "      <th>food_yes</th>\n",
              "      <th>snack_yes</th>\n",
              "      <th>beverage_yes</th>\n",
              "      <th>consumables_yes</th>\n",
              "      <th>...</th>\n",
              "      <th>day_type_weekend</th>\n",
              "      <th>24hr_no</th>\n",
              "      <th>24hr_yes</th>\n",
              "      <th>day.1_1</th>\n",
              "      <th>day.1_2</th>\n",
              "      <th>day.1_3</th>\n",
              "      <th>day.1_4</th>\n",
              "      <th>day.1_5</th>\n",
              "      <th>day.1_7</th>\n",
              "      <th>day.1_8</th>\n",
              "      <th>day.1_9</th>\n",
              "      <th>day.1_10</th>\n",
              "      <th>day.1_11</th>\n",
              "      <th>day.1_12</th>\n",
              "      <th>day.1_13</th>\n",
              "      <th>day.1_14</th>\n",
              "      <th>day.1_15</th>\n",
              "      <th>day.1_16</th>\n",
              "      <th>day.1_17</th>\n",
              "      <th>day.1_18</th>\n",
              "      <th>day.1_19</th>\n",
              "      <th>day.1_20</th>\n",
              "      <th>day.1_21</th>\n",
              "      <th>day.1_22</th>\n",
              "      <th>day.1_23</th>\n",
              "      <th>day.1_24</th>\n",
              "      <th>day.1_25</th>\n",
              "      <th>day.1_26</th>\n",
              "      <th>day.1_27</th>\n",
              "      <th>day.1_28</th>\n",
              "      <th>day.1_29</th>\n",
              "      <th>day.1_30</th>\n",
              "      <th>day.1_31</th>\n",
              "      <th>day.1_2305</th>\n",
              "      <th>day.1_17?06</th>\n",
              "      <th>month_(0, 2]</th>\n",
              "      <th>month_(2, 4]</th>\n",
              "      <th>month_(4, 6]</th>\n",
              "      <th>month_(6, 8]</th>\n",
              "      <th>month_(8, 10]</th>\n",
              "    </tr>\n",
              "  </thead>\n",
              "  <tbody>\n",
              "    <tr>\n",
              "      <th>0</th>\n",
              "      <td>1</td>\n",
              "      <td>1</td>\n",
              "      <td>90.0</td>\n",
              "      <td>100.0</td>\n",
              "      <td>10.0</td>\n",
              "      <td>2017.0</td>\n",
              "      <td>0</td>\n",
              "      <td>0</td>\n",
              "      <td>0</td>\n",
              "      <td>0</td>\n",
              "      <td>1</td>\n",
              "      <td>0</td>\n",
              "      <td>0</td>\n",
              "      <td>0</td>\n",
              "      <td>0</td>\n",
              "      <td>0</td>\n",
              "      <td>0</td>\n",
              "      <td>0</td>\n",
              "      <td>0</td>\n",
              "      <td>0</td>\n",
              "      <td>0</td>\n",
              "      <td>0</td>\n",
              "      <td>0</td>\n",
              "      <td>0</td>\n",
              "      <td>0</td>\n",
              "      <td>0</td>\n",
              "      <td>0</td>\n",
              "      <td>0</td>\n",
              "      <td>0</td>\n",
              "      <td>0</td>\n",
              "      <td>0</td>\n",
              "      <td>1</td>\n",
              "      <td>0</td>\n",
              "      <td>0</td>\n",
              "      <td>0</td>\n",
              "      <td>0</td>\n",
              "      <td>1</td>\n",
              "      <td>0</td>\n",
              "      <td>0</td>\n",
              "      <td>0</td>\n",
              "      <td>...</td>\n",
              "      <td>1</td>\n",
              "      <td>1</td>\n",
              "      <td>0</td>\n",
              "      <td>0</td>\n",
              "      <td>0</td>\n",
              "      <td>0</td>\n",
              "      <td>0</td>\n",
              "      <td>0</td>\n",
              "      <td>0</td>\n",
              "      <td>0</td>\n",
              "      <td>0</td>\n",
              "      <td>0</td>\n",
              "      <td>0</td>\n",
              "      <td>0</td>\n",
              "      <td>0</td>\n",
              "      <td>0</td>\n",
              "      <td>0</td>\n",
              "      <td>0</td>\n",
              "      <td>0</td>\n",
              "      <td>0</td>\n",
              "      <td>0</td>\n",
              "      <td>1</td>\n",
              "      <td>0</td>\n",
              "      <td>0</td>\n",
              "      <td>0</td>\n",
              "      <td>0</td>\n",
              "      <td>0</td>\n",
              "      <td>0</td>\n",
              "      <td>0</td>\n",
              "      <td>0</td>\n",
              "      <td>0</td>\n",
              "      <td>0</td>\n",
              "      <td>0</td>\n",
              "      <td>0</td>\n",
              "      <td>0</td>\n",
              "      <td>0</td>\n",
              "      <td>0</td>\n",
              "      <td>1</td>\n",
              "      <td>0</td>\n",
              "      <td>0</td>\n",
              "    </tr>\n",
              "    <tr>\n",
              "      <th>1</th>\n",
              "      <td>1</td>\n",
              "      <td>1</td>\n",
              "      <td>90.0</td>\n",
              "      <td>500.0</td>\n",
              "      <td>410.0</td>\n",
              "      <td>2017.0</td>\n",
              "      <td>0</td>\n",
              "      <td>0</td>\n",
              "      <td>0</td>\n",
              "      <td>0</td>\n",
              "      <td>1</td>\n",
              "      <td>0</td>\n",
              "      <td>0</td>\n",
              "      <td>0</td>\n",
              "      <td>0</td>\n",
              "      <td>0</td>\n",
              "      <td>0</td>\n",
              "      <td>0</td>\n",
              "      <td>0</td>\n",
              "      <td>0</td>\n",
              "      <td>0</td>\n",
              "      <td>0</td>\n",
              "      <td>0</td>\n",
              "      <td>0</td>\n",
              "      <td>0</td>\n",
              "      <td>0</td>\n",
              "      <td>0</td>\n",
              "      <td>0</td>\n",
              "      <td>0</td>\n",
              "      <td>0</td>\n",
              "      <td>0</td>\n",
              "      <td>1</td>\n",
              "      <td>0</td>\n",
              "      <td>0</td>\n",
              "      <td>0</td>\n",
              "      <td>0</td>\n",
              "      <td>1</td>\n",
              "      <td>0</td>\n",
              "      <td>0</td>\n",
              "      <td>0</td>\n",
              "      <td>...</td>\n",
              "      <td>1</td>\n",
              "      <td>1</td>\n",
              "      <td>0</td>\n",
              "      <td>0</td>\n",
              "      <td>0</td>\n",
              "      <td>0</td>\n",
              "      <td>0</td>\n",
              "      <td>0</td>\n",
              "      <td>0</td>\n",
              "      <td>0</td>\n",
              "      <td>0</td>\n",
              "      <td>0</td>\n",
              "      <td>0</td>\n",
              "      <td>0</td>\n",
              "      <td>0</td>\n",
              "      <td>0</td>\n",
              "      <td>0</td>\n",
              "      <td>0</td>\n",
              "      <td>0</td>\n",
              "      <td>0</td>\n",
              "      <td>0</td>\n",
              "      <td>1</td>\n",
              "      <td>0</td>\n",
              "      <td>0</td>\n",
              "      <td>0</td>\n",
              "      <td>0</td>\n",
              "      <td>0</td>\n",
              "      <td>0</td>\n",
              "      <td>0</td>\n",
              "      <td>0</td>\n",
              "      <td>0</td>\n",
              "      <td>0</td>\n",
              "      <td>0</td>\n",
              "      <td>0</td>\n",
              "      <td>0</td>\n",
              "      <td>0</td>\n",
              "      <td>0</td>\n",
              "      <td>1</td>\n",
              "      <td>0</td>\n",
              "      <td>0</td>\n",
              "    </tr>\n",
              "    <tr>\n",
              "      <th>2</th>\n",
              "      <td>3</td>\n",
              "      <td>1</td>\n",
              "      <td>270.0</td>\n",
              "      <td>300.0</td>\n",
              "      <td>30.0</td>\n",
              "      <td>2017.0</td>\n",
              "      <td>0</td>\n",
              "      <td>0</td>\n",
              "      <td>0</td>\n",
              "      <td>0</td>\n",
              "      <td>1</td>\n",
              "      <td>0</td>\n",
              "      <td>0</td>\n",
              "      <td>0</td>\n",
              "      <td>0</td>\n",
              "      <td>0</td>\n",
              "      <td>0</td>\n",
              "      <td>0</td>\n",
              "      <td>0</td>\n",
              "      <td>0</td>\n",
              "      <td>0</td>\n",
              "      <td>0</td>\n",
              "      <td>0</td>\n",
              "      <td>0</td>\n",
              "      <td>0</td>\n",
              "      <td>0</td>\n",
              "      <td>0</td>\n",
              "      <td>0</td>\n",
              "      <td>0</td>\n",
              "      <td>0</td>\n",
              "      <td>0</td>\n",
              "      <td>1</td>\n",
              "      <td>0</td>\n",
              "      <td>0</td>\n",
              "      <td>0</td>\n",
              "      <td>0</td>\n",
              "      <td>1</td>\n",
              "      <td>0</td>\n",
              "      <td>0</td>\n",
              "      <td>0</td>\n",
              "      <td>...</td>\n",
              "      <td>1</td>\n",
              "      <td>1</td>\n",
              "      <td>0</td>\n",
              "      <td>0</td>\n",
              "      <td>0</td>\n",
              "      <td>0</td>\n",
              "      <td>0</td>\n",
              "      <td>0</td>\n",
              "      <td>0</td>\n",
              "      <td>0</td>\n",
              "      <td>0</td>\n",
              "      <td>0</td>\n",
              "      <td>0</td>\n",
              "      <td>0</td>\n",
              "      <td>0</td>\n",
              "      <td>0</td>\n",
              "      <td>0</td>\n",
              "      <td>0</td>\n",
              "      <td>0</td>\n",
              "      <td>0</td>\n",
              "      <td>0</td>\n",
              "      <td>1</td>\n",
              "      <td>0</td>\n",
              "      <td>0</td>\n",
              "      <td>0</td>\n",
              "      <td>0</td>\n",
              "      <td>0</td>\n",
              "      <td>0</td>\n",
              "      <td>0</td>\n",
              "      <td>0</td>\n",
              "      <td>0</td>\n",
              "      <td>0</td>\n",
              "      <td>0</td>\n",
              "      <td>0</td>\n",
              "      <td>0</td>\n",
              "      <td>0</td>\n",
              "      <td>0</td>\n",
              "      <td>1</td>\n",
              "      <td>0</td>\n",
              "      <td>0</td>\n",
              "    </tr>\n",
              "    <tr>\n",
              "      <th>3</th>\n",
              "      <td>3</td>\n",
              "      <td>1</td>\n",
              "      <td>137.0</td>\n",
              "      <td>200.0</td>\n",
              "      <td>63.0</td>\n",
              "      <td>2017.0</td>\n",
              "      <td>0</td>\n",
              "      <td>0</td>\n",
              "      <td>0</td>\n",
              "      <td>0</td>\n",
              "      <td>1</td>\n",
              "      <td>0</td>\n",
              "      <td>0</td>\n",
              "      <td>0</td>\n",
              "      <td>0</td>\n",
              "      <td>0</td>\n",
              "      <td>0</td>\n",
              "      <td>0</td>\n",
              "      <td>0</td>\n",
              "      <td>0</td>\n",
              "      <td>0</td>\n",
              "      <td>0</td>\n",
              "      <td>0</td>\n",
              "      <td>0</td>\n",
              "      <td>0</td>\n",
              "      <td>0</td>\n",
              "      <td>0</td>\n",
              "      <td>0</td>\n",
              "      <td>0</td>\n",
              "      <td>0</td>\n",
              "      <td>0</td>\n",
              "      <td>1</td>\n",
              "      <td>0</td>\n",
              "      <td>0</td>\n",
              "      <td>0</td>\n",
              "      <td>0</td>\n",
              "      <td>1</td>\n",
              "      <td>0</td>\n",
              "      <td>0</td>\n",
              "      <td>0</td>\n",
              "      <td>...</td>\n",
              "      <td>1</td>\n",
              "      <td>1</td>\n",
              "      <td>0</td>\n",
              "      <td>0</td>\n",
              "      <td>0</td>\n",
              "      <td>0</td>\n",
              "      <td>0</td>\n",
              "      <td>0</td>\n",
              "      <td>0</td>\n",
              "      <td>0</td>\n",
              "      <td>0</td>\n",
              "      <td>0</td>\n",
              "      <td>0</td>\n",
              "      <td>0</td>\n",
              "      <td>0</td>\n",
              "      <td>0</td>\n",
              "      <td>0</td>\n",
              "      <td>0</td>\n",
              "      <td>0</td>\n",
              "      <td>0</td>\n",
              "      <td>0</td>\n",
              "      <td>1</td>\n",
              "      <td>0</td>\n",
              "      <td>0</td>\n",
              "      <td>0</td>\n",
              "      <td>0</td>\n",
              "      <td>0</td>\n",
              "      <td>0</td>\n",
              "      <td>0</td>\n",
              "      <td>0</td>\n",
              "      <td>0</td>\n",
              "      <td>0</td>\n",
              "      <td>0</td>\n",
              "      <td>0</td>\n",
              "      <td>0</td>\n",
              "      <td>0</td>\n",
              "      <td>0</td>\n",
              "      <td>1</td>\n",
              "      <td>0</td>\n",
              "      <td>0</td>\n",
              "    </tr>\n",
              "    <tr>\n",
              "      <th>4</th>\n",
              "      <td>1</td>\n",
              "      <td>1</td>\n",
              "      <td>75.0</td>\n",
              "      <td>80.0</td>\n",
              "      <td>5.0</td>\n",
              "      <td>2017.0</td>\n",
              "      <td>0</td>\n",
              "      <td>0</td>\n",
              "      <td>0</td>\n",
              "      <td>0</td>\n",
              "      <td>1</td>\n",
              "      <td>0</td>\n",
              "      <td>0</td>\n",
              "      <td>0</td>\n",
              "      <td>0</td>\n",
              "      <td>0</td>\n",
              "      <td>0</td>\n",
              "      <td>0</td>\n",
              "      <td>0</td>\n",
              "      <td>0</td>\n",
              "      <td>0</td>\n",
              "      <td>0</td>\n",
              "      <td>0</td>\n",
              "      <td>0</td>\n",
              "      <td>0</td>\n",
              "      <td>0</td>\n",
              "      <td>0</td>\n",
              "      <td>0</td>\n",
              "      <td>0</td>\n",
              "      <td>0</td>\n",
              "      <td>0</td>\n",
              "      <td>1</td>\n",
              "      <td>0</td>\n",
              "      <td>0</td>\n",
              "      <td>0</td>\n",
              "      <td>0</td>\n",
              "      <td>1</td>\n",
              "      <td>0</td>\n",
              "      <td>0</td>\n",
              "      <td>0</td>\n",
              "      <td>...</td>\n",
              "      <td>1</td>\n",
              "      <td>1</td>\n",
              "      <td>0</td>\n",
              "      <td>0</td>\n",
              "      <td>0</td>\n",
              "      <td>0</td>\n",
              "      <td>0</td>\n",
              "      <td>0</td>\n",
              "      <td>0</td>\n",
              "      <td>0</td>\n",
              "      <td>0</td>\n",
              "      <td>0</td>\n",
              "      <td>0</td>\n",
              "      <td>0</td>\n",
              "      <td>0</td>\n",
              "      <td>0</td>\n",
              "      <td>0</td>\n",
              "      <td>0</td>\n",
              "      <td>0</td>\n",
              "      <td>0</td>\n",
              "      <td>0</td>\n",
              "      <td>1</td>\n",
              "      <td>0</td>\n",
              "      <td>0</td>\n",
              "      <td>0</td>\n",
              "      <td>0</td>\n",
              "      <td>0</td>\n",
              "      <td>0</td>\n",
              "      <td>0</td>\n",
              "      <td>0</td>\n",
              "      <td>0</td>\n",
              "      <td>0</td>\n",
              "      <td>0</td>\n",
              "      <td>0</td>\n",
              "      <td>0</td>\n",
              "      <td>0</td>\n",
              "      <td>0</td>\n",
              "      <td>1</td>\n",
              "      <td>0</td>\n",
              "      <td>0</td>\n",
              "    </tr>\n",
              "  </tbody>\n",
              "</table>\n",
              "<p>5 rows × 969 columns</p>\n",
              "</div>"
            ],
            "text/plain": [
              "   no_of_items  variation  total  ...  month_(4, 6]  month_(6, 8]  month_(8, 10]\n",
              "0            1          1   90.0  ...             1             0              0\n",
              "1            1          1   90.0  ...             1             0              0\n",
              "2            3          1  270.0  ...             1             0              0\n",
              "3            3          1  137.0  ...             1             0              0\n",
              "4            1          1   75.0  ...             1             0              0\n",
              "\n",
              "[5 rows x 969 columns]"
            ]
          },
          "metadata": {
            "tags": []
          },
          "execution_count": 143
        }
      ]
    },
    {
      "cell_type": "markdown",
      "metadata": {
        "id": "bniIw1D32Rz1",
        "colab_type": "text"
      },
      "source": [
        "## Modelling of Data"
      ]
    },
    {
      "cell_type": "code",
      "metadata": {
        "id": "n6exuLte2TXw",
        "colab_type": "code",
        "colab": {
          "base_uri": "https://localhost:8080/",
          "height": 105
        },
        "outputId": "2f5fbf3d-c176-4103-b4b4-00b6215de7e6"
      },
      "source": [
        "df.info()\n",
        "df.dropna(inplace=True)"
      ],
      "execution_count": 151,
      "outputs": [
        {
          "output_type": "stream",
          "text": [
            "<class 'pandas.core.frame.DataFrame'>\n",
            "RangeIndex: 1464 entries, 0 to 1463\n",
            "Columns: 969 entries, no_of_items to month_(8, 10]\n",
            "dtypes: float64(4), int64(2), uint8(963)\n",
            "memory usage: 1.4 MB\n"
          ],
          "name": "stdout"
        }
      ]
    },
    {
      "cell_type": "markdown",
      "metadata": {
        "id": "r93g3unu2eQ_",
        "colab_type": "text"
      },
      "source": [
        "***Separate the features from the labels***"
      ]
    },
    {
      "cell_type": "code",
      "metadata": {
        "id": "71KQE7L12cec",
        "colab_type": "code",
        "colab": {}
      },
      "source": [
        "feat = df.drop(columns=['total'],axis=1)\n",
        "label = df[\"total\"]"
      ],
      "execution_count": 0,
      "outputs": []
    },
    {
      "cell_type": "markdown",
      "metadata": {
        "id": "ZNj44FLu2wup",
        "colab_type": "text"
      },
      "source": [
        "***The first step to create any machine learning model is to split the data into ‘train’, ‘test’ and ‘validation’ sets. the validation set is optional but very important if you are planning to deploy the model.***"
      ]
    },
    {
      "cell_type": "code",
      "metadata": {
        "id": "WD104G3O2k3M",
        "colab_type": "code",
        "colab": {}
      },
      "source": [
        "from sklearn.model_selection import train_test_split\n",
        "\n",
        "X_train, X_test, y_train, y_test = train_test_split(feat, label, test_size=0.3, random_state=10)\n",
        "\n"
      ],
      "execution_count": 0,
      "outputs": []
    },
    {
      "cell_type": "markdown",
      "metadata": {
        "id": "go8wMuZz3BR2",
        "colab_type": "text"
      },
      "source": [
        "**To scale the data we will import ‘StandardScaler’ from sklearn**"
      ]
    },
    {
      "cell_type": "code",
      "metadata": {
        "id": "S445uiCo23vZ",
        "colab_type": "code",
        "colab": {}
      },
      "source": [
        "from sklearn.preprocessing import StandardScaler\n",
        "\n",
        "sc_x = StandardScaler()\n",
        "X_train = sc_x.fit_transform(X_train)\n",
        "X_test = sc_x.fit_transform(X_test)"
      ],
      "execution_count": 0,
      "outputs": []
    },
    {
      "cell_type": "markdown",
      "metadata": {
        "id": "LQUXDRJg3H4F",
        "colab_type": "text"
      },
      "source": [
        "# Machine Learning"
      ]
    },
    {
      "cell_type": "markdown",
      "metadata": {
        "id": "9EpcnXIo19Vm",
        "colab_type": "text"
      },
      "source": [
        "> ## Support Vector Machine"
      ]
    },
    {
      "cell_type": "code",
      "metadata": {
        "id": "DNKNNTZW13kA",
        "colab_type": "code",
        "colab": {}
      },
      "source": [
        "from sklearn.svm import SVR"
      ],
      "execution_count": 0,
      "outputs": []
    },
    {
      "cell_type": "code",
      "metadata": {
        "id": "9wyIv-Af2JJh",
        "colab_type": "code",
        "colab": {}
      },
      "source": [
        "clf = SVR(kernel='rbf')\n",
        "clf.fit(X_train,y_train)\n",
        "y_pred_svc = clf.predict(X_test)"
      ],
      "execution_count": 0,
      "outputs": []
    },
    {
      "cell_type": "code",
      "metadata": {
        "id": "gH3atEMw3WPY",
        "colab_type": "code",
        "colab": {
          "base_uri": "https://localhost:8080/",
          "height": 70
        },
        "outputId": "94a0fe4c-92a0-44f5-8c78-cc386cfe9ab3"
      },
      "source": [
        "# MSE, RMSE, MAE\n",
        "#\n",
        "from sklearn import metrics\n",
        "import math\n",
        "\n",
        "print(f\" Mean Absolute Error: {metrics.mean_absolute_error(y_test, y_pred_svc)}\")\n",
        "print(f\" Mean Squared Error: {metrics.mean_squared_error(y_test, y_pred_svc)}\")\n",
        "print(f\" Root Mean Squared Error: {np.sqrt(metrics.mean_squared_error(y_test, y_pred_svc))}\")"
      ],
      "execution_count": 167,
      "outputs": [
        {
          "output_type": "stream",
          "text": [
            " Mean Absolute Error: 267.8385395753678\n",
            " Mean Squared Error: 1129179.0458308693\n",
            " Root Mean Squared Error: 1062.6283667542803\n"
          ],
          "name": "stdout"
        }
      ]
    },
    {
      "cell_type": "markdown",
      "metadata": {
        "id": "ymKbNsR845WV",
        "colab_type": "text"
      },
      "source": [
        "> ## Random Forest"
      ]
    },
    {
      "cell_type": "code",
      "metadata": {
        "id": "E-uIdG0K3zvi",
        "colab_type": "code",
        "colab": {}
      },
      "source": [
        "from sklearn.ensemble import RandomForestRegressor\n",
        "\n",
        "rf = RandomForestRegressor()\n",
        "rf.fit(X_train,y_train)\n",
        "y_pred_rfc = rf.predict(X_test)"
      ],
      "execution_count": 0,
      "outputs": []
    },
    {
      "cell_type": "code",
      "metadata": {
        "id": "uge3cSOV5H0A",
        "colab_type": "code",
        "colab": {
          "base_uri": "https://localhost:8080/",
          "height": 70
        },
        "outputId": "df06f77c-a2ba-40a7-9344-a32efa35912a"
      },
      "source": [
        "# MSE, RMSE, MAE\n",
        "#\n",
        "from sklearn import metrics\n",
        "import math\n",
        "\n",
        "print(f\" Mean Absolute Error: {metrics.mean_absolute_error(y_test, y_pred_rfc)}\")\n",
        "print(f\" Mean Squared Error: {metrics.mean_squared_error(y_test, y_pred_rfc)}\")\n",
        "print(f\" Root Mean Squared Error: {np.sqrt(metrics.mean_squared_error(y_test, y_pred_rfc))}\")"
      ],
      "execution_count": 174,
      "outputs": [
        {
          "output_type": "stream",
          "text": [
            " Mean Absolute Error: 74.36554191343964\n",
            " Mean Squared Error: 178735.9447281742\n",
            " Root Mean Squared Error: 422.7717406925091\n"
          ],
          "name": "stdout"
        }
      ]
    }
  ]
}